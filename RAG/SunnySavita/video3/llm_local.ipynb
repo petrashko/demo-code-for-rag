{
 "cells": [
  {
   "cell_type": "code",
   "execution_count": 1,
   "metadata": {},
   "outputs": [],
   "source": [
    "import requests\n",
    "import json"
   ]
  },
  {
   "cell_type": "markdown",
   "metadata": {},
   "source": [
    "Запуск LLM локально\n",
    "\n",
    "https://ollama.com  - Скачать и установить Ollama\n",
    "\n",
    "Выполнить команды в терминале:<br/>\n",
    "ollama pull sutyrin/saiga_mistral_7b\n",
    "\n",
    "ollama run sutyrin/saiga_mistral_7b  # если не работает http://localhost:11434"
   ]
  },
  {
   "cell_type": "code",
   "execution_count": 2,
   "metadata": {},
   "outputs": [],
   "source": [
    "user_input = 'мне нравится заниматься йогой'\n",
    "relevant_document = 'Запишитесь на занятия йогой и укрепите свое тело и разум'"
   ]
  },
  {
   "cell_type": "code",
   "execution_count": 5,
   "metadata": {},
   "outputs": [],
   "source": [
    "prompt = '''\n",
    "Ты бот, который дает ответы опираясь на текущий контекст. Ты отвечаешь короткими предложениями и не включаешь дополнительную информацию.\n",
    "Текущий контекст: {context}\n",
    "Запрос пользователя: {query}\n",
    "Составь ответ на основе запроса пользователя и текущего контекста.\n",
    "'''"
   ]
  },
  {
   "cell_type": "code",
   "execution_count": 6,
   "metadata": {},
   "outputs": [],
   "source": [
    "url = 'http://localhost:11434/api/generate'\n",
    "\n",
    "data = {\n",
    "    'model': 'sutyrin/saiga_mistral_7b',\n",
    "    'prompt': prompt.format(query=user_input, context=relevant_document)\n",
    "}\n",
    "\n",
    "headers = {'Content-Type': 'application/json'}"
   ]
  },
  {
   "cell_type": "code",
   "execution_count": 8,
   "metadata": {},
   "outputs": [
    {
     "name": "stdout",
     "output_type": "stream",
     "text": [
      "\n",
      "\n",
      "Да, это отличное решение для вас! Занятия йоги помогут укрепить ваше тело и разум. Пожалуйста, запишитесь на занятия и наслаждайтесь процессом!\n"
     ]
    },
    {
     "ename": "",
     "evalue": "",
     "output_type": "error",
     "traceback": [
      "\u001b[1;31mПри выполнении кода в текущей ячейке или предыдущей ячейке ядро аварийно завершило работу. \n",
      "\u001b[1;31mПроверьте код в ячейках, чтобы определить возможную причину сбоя. \n",
      "\u001b[1;31mЩелкните <a href='https://aka.ms/vscodeJupyterKernelCrash'>здесь</a>, чтобы получить дополнительные сведения. \n",
      "\u001b[1;31mПодробнее см. в <a href='command:jupyter.viewOutput'>журнале Jupyter</a>."
     ]
    }
   ],
   "source": [
    "full_response = []\n",
    "\n",
    "response = requests.post(url, data=json.dumps(data), headers=headers, stream=True)\n",
    "\n",
    "try:\n",
    "    for line in response.iter_lines():\n",
    "        # filter out keep-alive new lines\n",
    "        if line:\n",
    "            decoded_line = json.loads(line.decode('utf-8'))\n",
    "            #print(decoded_line['response'])  # uncomment чтобы увидеть результат, token by token\n",
    "            full_response.append(decoded_line['response'])\n",
    "finally:\n",
    "    response.close()\n",
    "    \n",
    "print(end='\\n\\n')\n",
    "print(''.join(full_response))"
   ]
  },
  {
   "cell_type": "code",
   "execution_count": null,
   "metadata": {},
   "outputs": [],
   "source": []
  }
 ],
 "metadata": {
  "kernelspec": {
   "display_name": "Python 3 (ipykernel)",
   "language": "python",
   "name": "python3"
  },
  "language_info": {
   "codemirror_mode": {
    "name": "ipython",
    "version": 3
   },
   "file_extension": ".py",
   "mimetype": "text/x-python",
   "name": "python",
   "nbconvert_exporter": "python",
   "pygments_lexer": "ipython3",
   "version": "3.12.4"
  }
 },
 "nbformat": 4,
 "nbformat_minor": 4
}
