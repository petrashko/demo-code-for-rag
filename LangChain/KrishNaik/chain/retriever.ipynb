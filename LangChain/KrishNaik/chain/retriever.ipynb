{
 "cells": [
  {
   "cell_type": "code",
   "execution_count": 1,
   "metadata": {
    "executionInfo": {
     "elapsed": 322,
     "status": "ok",
     "timestamp": 1729322209996,
     "user": {
      "displayName": "Andrey Petrashko",
      "userId": "02774772516973286917"
     },
     "user_tz": -420
    },
    "id": "dS-RbwsfnMU6"
   },
   "outputs": [],
   "source": [
    "from langchain_core.prompts import ChatPromptTemplate\n",
    "from langchain_community.llms import Ollama\n",
    "from langchain_community.document_loaders import PyPDFLoader\n",
    "from langchain.text_splitter import RecursiveCharacterTextSplitter\n",
    "from langchain_community.vectorstores import FAISS\n",
    "from langchain_community.embeddings import HuggingFaceBgeEmbeddings\n",
    "from langchain.chains.combine_documents import create_stuff_documents_chain\n",
    "from langchain.chains import create_retrieval_chain\n",
    "#\n",
    "import os\n",
    "from dotenv import load_dotenv"
   ]
  },
  {
   "cell_type": "code",
   "execution_count": 8,
   "metadata": {},
   "outputs": [],
   "source": [
    "load_dotenv()\n",
    "os.environ['HF_TOKEN'] = os.getenv('HF_TOKEN')"
   ]
  },
  {
   "cell_type": "code",
   "execution_count": 9,
   "metadata": {
    "executionInfo": {
     "elapsed": 608,
     "status": "ok",
     "timestamp": 1729317641051,
     "user": {
      "displayName": "Andrey Petrashko",
      "userId": "02774772516973286917"
     },
     "user_tz": -420
    },
    "id": "P5YTn8QmuZ5T"
   },
   "outputs": [],
   "source": [
    "loader = PyPDFLoader('ethics.pdf')\n",
    "docs = loader.load()[:6]\n",
    "#docs"
   ]
  },
  {
   "cell_type": "code",
   "execution_count": 10,
   "metadata": {
    "colab": {
     "base_uri": "https://localhost:8080/"
    },
    "executionInfo": {
     "elapsed": 317,
     "status": "ok",
     "timestamp": 1729317643949,
     "user": {
      "displayName": "Andrey Petrashko",
      "userId": "02774772516973286917"
     },
     "user_tz": -420
    },
    "id": "209-_2iiwLXw",
    "outputId": "697bd009-27e3-4bc3-9ace-759970d38eeb"
   },
   "outputs": [
    {
     "data": {
      "text/plain": [
       "6"
      ]
     },
     "execution_count": 10,
     "metadata": {},
     "output_type": "execute_result"
    }
   ],
   "source": [
    "len(docs)"
   ]
  },
  {
   "cell_type": "code",
   "execution_count": 11,
   "metadata": {
    "colab": {
     "base_uri": "https://localhost:8080/",
     "height": 140
    },
    "executionInfo": {
     "elapsed": 334,
     "status": "ok",
     "timestamp": 1729317660038,
     "user": {
      "displayName": "Andrey Petrashko",
      "userId": "02774772516973286917"
     },
     "user_tz": -420
    },
    "id": "BeJez8mJxczA",
    "outputId": "79bd9ccb-864a-470f-c9ae-ca7569f92a58"
   },
   "outputs": [
    {
     "data": {
      "text/plain": [
       "' \\n171 \\n 3.1. Факты нарушения Положения о  корпоративной этике работника ТПУ могут \\nслужить основанием для отрицательного заключения кадровой  комиссии \\nшколы (филиала), Кадровой аттестационной ко миссии Ученого совета ТПУ  \\nв отношении претендента на замещение  должности профессорско -\\nпреподавательского состава, конкурсной комиссии в отношении научного \\nсостава.  \\n3.2. Факты нарушения Положения о корпоративной этике работника ТПУ могут \\nслужить основанием дл я отказа в поддержке университета при заявках  \\nна гранты, участии в программах развития ТПУ, программах повышения \\nквалификации, конференциях, привлечении к дополнительным работам в \\nрамках НИР или ПОУ и любым зарубежным командировкам на срок от 1 года.  \\n3.3. Считаются аморальным проступком, несовместимым с продолжением работы  \\nпо данным должностям, следующие нарушения Положения о корпоративной \\nэтике работниками из числа профессорско -преподавательского состава, \\nнаучными работниками, педагогическими работниками и и ными работниками, \\nвыполняющими воспитательные функции: действия, предусмотренные \\nпунктами 2.7. – 2.9, 2.16, 2.17 настоящего Положения о корпоративной этике  \\nработника ТПУ.  \\n3.4. Нарушение норм корпоративной этики может повлечь за собой следующие \\nдействия админис трации ТПУ:  \\n3.4.1.  Письменное предупреждение о недопустимости нарушения Положения  \\nо корпоративной этике и Кодекса с указанием конкретных нежелательных \\nдействий, совершенных  работником.  \\n3.4.2.  Общественное порицание, оформленное распоряжением по университету.  \\n3.4.3.  Привлеч ение работника к дисциплинарной ответственности в соответствии  \\nс действующим законодательством Российской Федерации.  \\n3.4.4.  Лишение наград и почетных званий университета.  \\n \\n \\n \\n \\n \\n \\n \\n \\n \\n \\n \\n \\n \\n \\n \\n \\n \\n '"
      ]
     },
     "execution_count": 11,
     "metadata": {},
     "output_type": "execute_result"
    }
   ],
   "source": [
    "docs[5].page_content"
   ]
  },
  {
   "cell_type": "code",
   "execution_count": 12,
   "metadata": {
    "executionInfo": {
     "elapsed": 323,
     "status": "ok",
     "timestamp": 1729319179363,
     "user": {
      "displayName": "Andrey Petrashko",
      "userId": "02774772516973286917"
     },
     "user_tz": -420
    },
    "id": "K4u3ba4Oxpgg"
   },
   "outputs": [],
   "source": [
    "#text_splitter = RecursiveCharacterTextSplitter(separators=['\\n', '\\n\\n'], chunk_size=1000, chunk_overlap=20)\n",
    "text_splitter = RecursiveCharacterTextSplitter(chunk_size=1000, chunk_overlap=20)\n",
    "documents = text_splitter.split_documents(docs)\n",
    "#documents"
   ]
  },
  {
   "cell_type": "code",
   "execution_count": 13,
   "metadata": {
    "colab": {
     "base_uri": "https://localhost:8080/"
    },
    "executionInfo": {
     "elapsed": 347,
     "status": "ok",
     "timestamp": 1729319181642,
     "user": {
      "displayName": "Andrey Petrashko",
      "userId": "02774772516973286917"
     },
     "user_tz": -420
    },
    "id": "5LElK29Ayvtm",
    "outputId": "fa8608b8-9d62-4690-8205-a69a31f75857"
   },
   "outputs": [
    {
     "data": {
      "text/plain": [
       "17"
      ]
     },
     "execution_count": 13,
     "metadata": {},
     "output_type": "execute_result"
    }
   ],
   "source": [
    "len(documents)"
   ]
  },
  {
   "cell_type": "code",
   "execution_count": 14,
   "metadata": {
    "colab": {
     "base_uri": "https://localhost:8080/"
    },
    "executionInfo": {
     "elapsed": 303,
     "status": "ok",
     "timestamp": 1729319184767,
     "user": {
      "displayName": "Andrey Petrashko",
      "userId": "02774772516973286917"
     },
     "user_tz": -420
    },
    "id": "OkMwNYKLzl0Q",
    "outputId": "da9d535b-893e-4828-de7b-206bfc883c01"
   },
   "outputs": [
    {
     "data": {
      "text/plain": [
       "[Document(page_content='166 \\n  \\nПриложение № 19  \\nк Коллективному договору ТПУ    \\nна 2019 – 2021 годы  \\n(продлён до 21.02.2025 г.)  \\nПОЛОЖЕНИЕ  \\nо корпоративной этике работника ТПУ  \\n \\n1. Общие положения корпоративной этики  \\n \\n1.1. Положение о корпоративной этике работника ТПУ распространяется на всех \\nрабо тников Томского политехнического университета.  \\n1.2. Поведение работника ТПУ на его рабочем месте служит развитию \\nуниверситета. Должностные обязанности выполняются с единственной целью \\n˗ повышение эффективности работы и защиты интересов университета.  \\n1.3. Мы признае м, что наша цель ˗  работать не просто «хорошо», но «лучше \\nвсех», а быстро и качественно выполненная  работа поощряется на всех \\nуровнях.  \\n1.4. Мы ведем свою деятельность таким образом, чтобы исключить возможность \\nвозникновения конфликта интересов, когда прямые или косвенные личные \\nинтересы работника любого уровня несовместимы с интересами ТПУ  \\nили нацелены на получение личной выгоды с использованием ресурсов и', metadata={'source': 'ethics.pdf', 'page': 0}),\n",
       " Document(page_content='любой формы собственности университета: интеллектуальной, материальной  \\nи нематериальной (в том числе с лужебной информации).  \\n1.5. Мы допускаем использование ресурсов и оборудования в личных \\nисследовательских целях, но категорически предостерегаем от использования \\nнаших совместных активов в бизнес -целях, в том числе для индивидуального \\nили группового обогащения работников, без соблюдения интересов \\nуниверситета.  \\n1.6. Защита и надлежащее использование активов университета предполагают \\nэффективное использование ресурсов, не допускающее причинения \\nимущественного ущерба интересам ТПУ.  \\n1.7. Информационная открытость университет а подразумевает широкое \\nраспространение информации обо всех аспектах деятельности ТПУ в \\nоткрытых источниках, в том числе на сайте www .tpu.ru, на корпоративном \\nпортале, включая личные информационные кабинеты работников.  \\n1.8. Работники имеют полное право честно и откровенно высказывать свое мнение', metadata={'source': 'ethics.pdf', 'page': 0}),\n",
       " Document(page_content='о политике университета и его руководстве, используя механизмы обратной \\nсвязи, принятые в ТПУ, в том числе возможность задавать прямые вопросы \\nректору и представителям ректората.  \\n1.9. Мы от казываемся считать приемлемым поведение, при котором допускается \\nраспространение в любой форме недостоверной информации, искаженных \\nфактов либо домыслов, а также утверждений, порочащих честь и достоинство \\nколлег, либо безосновательной критики политики унив ерситета.     \\n1.10. Независимо от того, каким образом был получен доступ к распространяемой \\nинформации и какой характер она носит: личный, служебный или', metadata={'source': 'ethics.pdf', 'page': 0}),\n",
       " Document(page_content='167 \\n коммерческий, мы обязуемся ни в коем  случае не применять ее во вред \\nуниверситету и его работникам.   \\n1.11. Мы поощ ряем развитие репутации университета, однако любое \\nсотрудничество со СМИ, независимо от их формы, предполагает \\nпредварительное согласование со структурным подразделением университета, \\nотвечающим за работу со СМИ. В противном случае работник выступает как \\nчастное лицо, не имеющее права ассоциировать свое поведение и \\nвысказывания с Томским политехническим университетом.  \\n1.12. Мы понимаем, что современные социальные сети являются повсеместным \\nинструментом обмена информацией, но признаем, что форма и стиль общения  \\nв них должны быть связаны с ценностями университета и положениями \\nнастоящего Кодекса, даже если мы выступаем в указанных сетях на условиях \\nанонимности.  \\n1.13. Все члены  сообщества  ТПУ  проявляют  вежливость  и уважение  к коллегам   \\nи партнерам,  всеми  силами  препятст вуют  нарушениям  профессиональной', metadata={'source': 'ethics.pdf', 'page': 1}),\n",
       " Document(page_content='этики  со стороны  представителей  научно -педагогических  работников,  \\nобучающихся   \\nи административных  работников.  \\n1.14. Мы стремимся  подходить  к решению  задач  неформально,  эффективно  решая  \\nпроблемы  университета  и наших  коллег  (внутре нних  клиентов)  в самые  \\nкороткие  сроки.    \\n1.15. Каждый  работник  стремится  в своей  деятельности  к применению  \\nобъективных  критериев  при принятии  решений,  открытости  и обоснованности   \\nпри распределении  материального  стимулирования,  объема  задач,  назначении  \\nпремий  и применении  взысканий.    \\n1.16. Каждый  работник  в своей  деятельности  сохраняет  беспристрастность   \\nи руководствуется  исключительно  образовательными  и научными  интересами  \\nсообщества  университета,  отказываясь  принимать  решения,  основанные   \\nна личных  пристрастиях  или антипатиях,  анонимных  и неполных  данных,  \\nнедоказанных  обвинениях  в нарушениях,  в том числе  настоящего  Кодекса.', metadata={'source': 'ethics.pdf', 'page': 1})]"
      ]
     },
     "execution_count": 14,
     "metadata": {},
     "output_type": "execute_result"
    }
   ],
   "source": [
    "documents[:5]"
   ]
  },
  {
   "cell_type": "markdown",
   "metadata": {
    "id": "NY2UIYw7VMyc"
   },
   "source": [
    "### Заменить OpenAIEmbeddings"
   ]
  },
  {
   "cell_type": "code",
   "execution_count": 4,
   "metadata": {
    "executionInfo": {
     "elapsed": 1160,
     "status": "ok",
     "timestamp": 1729318628835,
     "user": {
      "displayName": "Andrey Petrashko",
      "userId": "02774772516973286917"
     },
     "user_tz": -420
    },
    "id": "5ZFgy7I8T6lr"
   },
   "outputs": [],
   "source": [
    "'''\n",
    "from langchain_community.embeddings import HuggingFaceEmbeddings\n",
    "\n",
    "model_id = 'sentence-transformers/all-MiniLM-L6-v2'\n",
    "#model_kwargs = {'device': 'cuda'}\n",
    "model_kwargs = {'device': 'cpu'}\n",
    "\n",
    "huggingface_embeddings = HuggingFaceEmbeddings(\n",
    "    model_name=model_id,\n",
    "    model_kwargs=model_kwargs\n",
    ")\n",
    "'''\n",
    "pass"
   ]
  },
  {
   "cell_type": "code",
   "execution_count": 5,
   "metadata": {},
   "outputs": [
    {
     "name": "stderr",
     "output_type": "stream",
     "text": [
      "e:\\Progi\\PythonProg\\NLP\\LangChain\\KrishNaik\\.venv\\Lib\\site-packages\\sentence_transformers\\cross_encoder\\CrossEncoder.py:13: TqdmWarning: IProgress not found. Please update jupyter and ipywidgets. See https://ipywidgets.readthedocs.io/en/stable/user_install.html\n",
      "  from tqdm.autonotebook import tqdm, trange\n",
      "e:\\Progi\\PythonProg\\NLP\\LangChain\\KrishNaik\\.venv\\Lib\\site-packages\\huggingface_hub\\file_download.py:139: UserWarning: `huggingface_hub` cache-system uses symlinks by default to efficiently store duplicated files but your machine does not support them in C:\\Users\\Андрей\\.cache\\huggingface\\hub\\models--BAAI--bge-small-en-v1.5. Caching files will still work but in a degraded version that might require more space on your disk. This warning can be disabled by setting the `HF_HUB_DISABLE_SYMLINKS_WARNING` environment variable. For more details, see https://huggingface.co/docs/huggingface_hub/how-to-cache#limitations.\n",
      "To support symlinks on Windows, you either need to activate Developer Mode or to run Python as an administrator. In order to activate developer mode, see this article: https://docs.microsoft.com/en-us/windows/apps/get-started/enable-your-device-for-development\n",
      "  warnings.warn(message)\n"
     ]
    }
   ],
   "source": [
    "#model_id = 'sentence-transformers/all-MiniLM-l6-v2'\n",
    "model_id = 'BAAI/bge-small-en-v1.5'\n",
    "\n",
    "#model_args = {'device': 'cuda'}\n",
    "model_args = {'device': 'cpu'}\n",
    "\n",
    "huggingface_embeddings = HuggingFaceBgeEmbeddings(\n",
    "    model_name=model_id,\n",
    "    model_kwargs=model_args,\n",
    "    encode_kwargs={'normalize_embeddings': True}\n",
    ")"
   ]
  },
  {
   "cell_type": "code",
   "execution_count": 15,
   "metadata": {
    "executionInfo": {
     "elapsed": 321,
     "status": "ok",
     "timestamp": 1729319056584,
     "user": {
      "displayName": "Andrey Petrashko",
      "userId": "02774772516973286917"
     },
     "user_tz": -420
    },
    "id": "2eMqLWoVcT-E"
   },
   "outputs": [],
   "source": [
    "query = 'выставление завышенных требований к экзаменам'"
   ]
  },
  {
   "cell_type": "code",
   "execution_count": 16,
   "metadata": {
    "colab": {
     "base_uri": "https://localhost:8080/"
    },
    "executionInfo": {
     "elapsed": 7061,
     "status": "ok",
     "timestamp": 1729319382200,
     "user": {
      "displayName": "Andrey Petrashko",
      "userId": "02774772516973286917"
     },
     "user_tz": -420
    },
    "id": "3xuVjs-rfY4R",
    "outputId": "cc36e922-56ff-43ab-8874-606ffe8f3102"
   },
   "outputs": [
    {
     "data": {
      "text/plain": [
       "<langchain_community.vectorstores.faiss.FAISS at 0x12e820564e0>"
      ]
     },
     "execution_count": 16,
     "metadata": {},
     "output_type": "execute_result"
    }
   ],
   "source": [
    "db_faiss = FAISS.from_documents(documents, embedding=huggingface_embeddings)\n",
    "db_faiss"
   ]
  },
  {
   "cell_type": "code",
   "execution_count": 17,
   "metadata": {
    "colab": {
     "base_uri": "https://localhost:8080/"
    },
    "executionInfo": {
     "elapsed": 324,
     "status": "ok",
     "timestamp": 1729319222098,
     "user": {
      "displayName": "Andrey Petrashko",
      "userId": "02774772516973286917"
     },
     "user_tz": -420
    },
    "id": "AHfbsaKdgAin",
    "outputId": "6bd791db-443a-4612-c389-98ca1a67b5d7"
   },
   "outputs": [
    {
     "name": "stdout",
     "output_type": "stream",
     "text": [
      "169 \n",
      " 2.10. Выставление завышенных требований к экзаменам и зачетам, так же как и \n",
      "явно заниженные требования и формализм в проставлении оценок, не \n",
      "являются поощряемыми формами поведения в Томском политехническом \n",
      "университете.  \n",
      "2.11. Любая информация, предоставляемая обучающимся для подготовки  \n",
      "к экзаменам и зачетам, должна носить исчерпывающий  характер, быть \n",
      "доступной в бумажном и электронном виде, но не содержать готовых ответов.  \n",
      "2.12. Преподаватель оценивает обучающихся независимо и объективно, \n",
      "основываясь на качестве их ответов, но не на свойствах личности и своих \n",
      "личных предпочтениях. Снижение и ли, напротив, повышение требований в \n",
      "ходе испытаний, по сравнению с ранее заявленными, не поощряется в рамках \n",
      "настоящего Кодекса.  \n",
      "2.13. Томский политехнический университет придерживается высоких стандартов \n",
      "при проведении научных исследований и представлении их результатов. \n",
      "Допускаются к публикации только оригинальные научные труды, содержащие\n"
     ]
    }
   ],
   "source": [
    "retireved_results = db_faiss.similarity_search(query)\n",
    "#retireved_results\n",
    "print(retireved_results[0].page_content)"
   ]
  },
  {
   "cell_type": "code",
   "execution_count": 16,
   "metadata": {
    "executionInfo": {
     "elapsed": 329,
     "status": "ok",
     "timestamp": 1729319356669,
     "user": {
      "displayName": "Andrey Petrashko",
      "userId": "02774772516973286917"
     },
     "user_tz": -420
    },
    "id": "8XzH9Fwr9lUJ"
   },
   "outputs": [],
   "source": [
    "#for i in range(0, len(retireved_results)): print(retireved_results[i].page_content)"
   ]
  },
  {
   "cell_type": "code",
   "execution_count": 18,
   "metadata": {
    "colab": {
     "base_uri": "https://localhost:8080/"
    },
    "executionInfo": {
     "elapsed": 319,
     "status": "ok",
     "timestamp": 1729322840343,
     "user": {
      "displayName": "Andrey Petrashko",
      "userId": "02774772516973286917"
     },
     "user_tz": -420
    },
    "id": "_fcMWyPbcGuT",
    "outputId": "26d31e96-3545-4fd9-dd36-53325a1e664c"
   },
   "outputs": [
    {
     "data": {
      "text/plain": [
       "Ollama(model='sutyrin/saiga_mistral_7b')"
      ]
     },
     "execution_count": 18,
     "metadata": {},
     "output_type": "execute_result"
    }
   ],
   "source": [
    "llm = Ollama(model='sutyrin/saiga_mistral_7b')\n",
    "llm"
   ]
  },
  {
   "cell_type": "code",
   "execution_count": 19,
   "metadata": {
    "colab": {
     "base_uri": "https://localhost:8080/"
    },
    "executionInfo": {
     "elapsed": 328,
     "status": "ok",
     "timestamp": 1729322858324,
     "user": {
      "displayName": "Andrey Petrashko",
      "userId": "02774772516973286917"
     },
     "user_tz": -420
    },
    "id": "qipYiWAAgzDz",
    "outputId": "525af895-802b-4c0d-d096-3bf457716b21"
   },
   "outputs": [],
   "source": [
    "prompt_str = \"\"\"\n",
    "Нужно ответить на вопрос, основываясь только на предоставленном контексте.\n",
    "Подумай шаг за шагом, прежде чем предоставить подробный ответ.\n",
    "<context>\n",
    "{context}\n",
    "</context>\n",
    "Questions: {input}\n",
    "\"\"\"\n",
    "\n",
    "prompt = ChatPromptTemplate.from_template(prompt_str)"
   ]
  },
  {
   "cell_type": "code",
   "execution_count": 20,
   "metadata": {
    "executionInfo": {
     "elapsed": 302,
     "status": "ok",
     "timestamp": 1729322861087,
     "user": {
      "displayName": "Andrey Petrashko",
      "userId": "02774772516973286917"
     },
     "user_tz": -420
    },
    "id": "chTAJ4nVovlZ"
   },
   "outputs": [],
   "source": [
    "retriever = db_faiss.as_retriever()\n",
    "\n",
    "document_chain = create_stuff_documents_chain(llm, prompt)\n",
    "\n",
    "'''\n",
    "Цепочка поиска: эта цепочка принимает запрос пользователя,\n",
    "который передается извлекателю для извлечения релевантных документов.\n",
    "Эти документы (и исходные входные данные) затем передаются в LLM для генерации ответа\n",
    "'''\n",
    "retrieval_chain = create_retrieval_chain(retriever, document_chain)"
   ]
  },
  {
   "cell_type": "code",
   "execution_count": 21,
   "metadata": {
    "colab": {
     "base_uri": "https://localhost:8080/",
     "height": 668
    },
    "executionInfo": {
     "elapsed": 330,
     "status": "error",
     "timestamp": 1729322863775,
     "user": {
      "displayName": "Andrey Petrashko",
      "userId": "02774772516973286917"
     },
     "user_tz": -420
    },
    "id": "EWy0M1R0qEeb",
    "outputId": "ed171c44-f6db-47a5-97ca-0b0f04a11c27"
   },
   "outputs": [
    {
     "data": {
      "text/plain": [
       "{'input': 'выставление завышенных требований к экзаменам',\n",
       " 'context': [Document(page_content='169 \\n 2.10. Выставление завышенных требований к экзаменам и зачетам, так же как и \\nявно заниженные требования и формализм в проставлении оценок, не \\nявляются поощряемыми формами поведения в Томском политехническом \\nуниверситете.  \\n2.11. Любая информация, предоставляемая обучающимся для подготовки  \\nк экзаменам и зачетам, должна носить исчерпывающий  характер, быть \\nдоступной в бумажном и электронном виде, но не содержать готовых ответов.  \\n2.12. Преподаватель оценивает обучающихся независимо и объективно, \\nосновываясь на качестве их ответов, но не на свойствах личности и своих \\nличных предпочтениях. Снижение и ли, напротив, повышение требований в \\nходе испытаний, по сравнению с ранее заявленными, не поощряется в рамках \\nнастоящего Кодекса.  \\n2.13. Томский политехнический университет придерживается высоких стандартов \\nпри проведении научных исследований и представлении их результатов. \\nДопускаются к публикации только оригинальные научные труды, содержащие', metadata={'source': 'ethics.pdf', 'page': 3}),\n",
       "  Document(page_content='этики  со стороны  представителей  научно -педагогических  работников,  \\nобучающихся   \\nи административных  работников.  \\n1.14. Мы стремимся  подходить  к решению  задач  неформально,  эффективно  решая  \\nпроблемы  университета  и наших  коллег  (внутре нних  клиентов)  в самые  \\nкороткие  сроки.    \\n1.15. Каждый  работник  стремится  в своей  деятельности  к применению  \\nобъективных  критериев  при принятии  решений,  открытости  и обоснованности   \\nпри распределении  материального  стимулирования,  объема  задач,  назначении  \\nпремий  и применении  взысканий.    \\n1.16. Каждый  работник  в своей  деятельности  сохраняет  беспристрастность   \\nи руководствуется  исключительно  образовательными  и научными  интересами  \\nсообщества  университета,  отказываясь  принимать  решения,  основанные   \\nна личных  пристрастиях  или антипатиях,  анонимных  и неполных  данных,  \\nнедоказанных  обвинениях  в нарушениях,  в том числе  настоящего  Кодекса.', metadata={'source': 'ethics.pdf', 'page': 1}),\n",
       "  Document(page_content='2.17.7.  Подлог или выдача за собственные результаты итогов исследования \\nтретьих лиц.  \\n2.17.8.  Проведение исследований, нарушающих неприкосновенность частной \\nжизни и морально -этические общественные нормы.  \\n2.18. Этика научных публикаций ТПУ декларирует, что любой из видов плагиата  \\nили недобросовестного поведения при проведении исследований считается \\nгрубым нарушением Кодекса, наносит непоправимый ущерб репутации вуза  \\nи может повлечь за собой постановку вопросов об отзыве публикаций, \\nлишении ученой степени, не про дление договора (контракта) или \\nдисциплинарном взыскании.  \\n \\n3. Ответственность', metadata={'source': 'ethics.pdf', 'page': 4}),\n",
       "  Document(page_content='о политике университета и его руководстве, используя механизмы обратной \\nсвязи, принятые в ТПУ, в том числе возможность задавать прямые вопросы \\nректору и представителям ректората.  \\n1.9. Мы от казываемся считать приемлемым поведение, при котором допускается \\nраспространение в любой форме недостоверной информации, искаженных \\nфактов либо домыслов, а также утверждений, порочащих честь и достоинство \\nколлег, либо безосновательной критики политики унив ерситета.     \\n1.10. Независимо от того, каким образом был получен доступ к распространяемой \\nинформации и какой характер она носит: личный, служебный или', metadata={'source': 'ethics.pdf', 'page': 0})],\n",
       " 'answer': 'Выставление завышенных требований к экзаменам и зачетам является непоощряемым формами поведения в Томском политехническом университете. Это противоречит принципам честности, объективности и беспристрастности, которые должны соблюдаться при оценивании студентов.'}"
      ]
     },
     "execution_count": 21,
     "metadata": {},
     "output_type": "execute_result"
    }
   ],
   "source": [
    "# Иммитация запроса от пользователя\n",
    "response = retrieval_chain.invoke({'input': 'выставление завышенных требований к экзаменам'})\n",
    "response"
   ]
  },
  {
   "cell_type": "code",
   "execution_count": 22,
   "metadata": {
    "id": "dR8tSkGeqkIO"
   },
   "outputs": [
    {
     "name": "stdout",
     "output_type": "stream",
     "text": [
      "Выставление завышенных требований к экзаменам и зачетам является непоощряемым формами поведения в Томском политехническом университете. Это противоречит принципам честности, объективности и беспристрастности, которые должны соблюдаться при оценивании студентов.\n"
     ]
    }
   ],
   "source": [
    "print(response['answer'])"
   ]
  },
  {
   "cell_type": "code",
   "execution_count": null,
   "metadata": {},
   "outputs": [],
   "source": []
  }
 ],
 "metadata": {
  "colab": {
   "authorship_tag": "ABX9TyPY4wBc4xhwK10D8fsgkH/b",
   "provenance": []
  },
  "kernelspec": {
   "display_name": "Python 3 (ipykernel)",
   "language": "python",
   "name": "python3"
  },
  "language_info": {
   "codemirror_mode": {
    "name": "ipython",
    "version": 3
   },
   "file_extension": ".py",
   "mimetype": "text/x-python",
   "name": "python",
   "nbconvert_exporter": "python",
   "pygments_lexer": "ipython3",
   "version": "3.12.4"
  }
 },
 "nbformat": 4,
 "nbformat_minor": 4
}
