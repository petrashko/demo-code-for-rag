{
 "cells": [
  {
   "cell_type": "code",
   "execution_count": 16,
   "metadata": {},
   "outputs": [],
   "source": [
    "from langchain_community.document_loaders import PyPDFLoader\n",
    "from langchain_community.document_loaders import PyPDFDirectoryLoader\n",
    "from langchain.text_splitter import RecursiveCharacterTextSplitter\n",
    "from langchain_community.vectorstores import FAISS\n",
    "#\n",
    "from langchain_community.llms import HuggingFaceHub\n",
    "from langchain_community.llms.huggingface_pipeline import HuggingFacePipeline\n",
    "from langchain_community.embeddings import HuggingFaceBgeEmbeddings\n",
    "from langchain.prompts import PromptTemplate\n",
    "#\n",
    "from langchain.chains import RetrievalQA\n",
    "#\n",
    "import  numpy as np\n",
    "#\n",
    "import os\n",
    "from dotenv import load_dotenv"
   ]
  },
  {
   "cell_type": "code",
   "execution_count": 18,
   "metadata": {},
   "outputs": [],
   "source": [
    "load_dotenv()\n",
    "\n",
    "hf_token = os.getenv('HF_TOKEN')\n",
    "os.environ['HF_TOKEN'] = hf_token\n",
    "os.environ['HUGGINGFACEHUB_API_TOKEN'] = hf_token"
   ]
  },
  {
   "cell_type": "code",
   "execution_count": 5,
   "metadata": {},
   "outputs": [
    {
     "data": {
      "text/plain": [
       "49"
      ]
     },
     "execution_count": 5,
     "metadata": {},
     "output_type": "execute_result"
    }
   ],
   "source": [
    "loader = PyPDFDirectoryLoader(\"./koldogovor\")\n",
    "\n",
    "documents = loader.load()\n",
    "len(documents)"
   ]
  },
  {
   "cell_type": "code",
   "execution_count": 7,
   "metadata": {},
   "outputs": [
    {
     "data": {
      "text/plain": [
       "Document(page_content=' \\n149 \\n  \\n2. Направления и размер оказания материальной помощи  \\nработникам ТПУ  \\n \\n2.1. Материальная помощь на частичное возмещение затрат в связи  \\nс дорогостоящим лечением оказывается  работникам университета, \\nсреднемесячная заработная плата которых не превышает средней \\nзаработной платы по ТПУ за предыдущий год, при предоставлении ими \\nподтверждающих необходимость такого лечения документов:  \\n- на приоб ретение лекарств и иных лечебных препаратов, оборудования \\nпо жизненно важным показаниям  (наличие инвалидности, перенесенное \\nзаболевание, повлекшее необходимость постоянного или длительного \\nприема лекарств) - не более 3 тысяч рублей. Подтверждающими \\nдокумен тами являются справка об инвалидности, выписка из \\nмедицинского учреждения, назначения от врача, рецепты, кассовые и \\nтоварные чеки;  \\n- на лечение и протезирование зубов – не более 3 тысяч рублей. \\nПодтверждающими документами являются договор на оказание услуг,  \\nакт выполненных работ, кассовый чек или квитанция;  \\n- на санаторно -курортное лечение – не более 3 тысяч рублей. \\nПодтверждающими документами являются обратный талон путевки, \\nкассовый чек, договор;  \\n- на платное стационарное лечение – не более 3 тысяч рублей. \\nПодтверждающими документами являются договор на оказание платных \\nмедицинских услуг, акт выполненных работ (выписка), кассовый чек;  \\n- на   проведение   хирургических   операций  по  жизненно  важным  \\nпоказаниям  – не более 6 тысяч рублей. Подтверждающими документ ами \\nявляются договор  на оказание платных медицинских услуг, акт \\nвыполненных работ (выписка), кассовый чек;  \\n- на проведение платного медицинского обследования по жизненно \\nважным показаниям  (кардиология, онкология, восстановление функций \\nрепродуктивной системы  и т.д.) с  последующим  лечением – не более 3 \\nтысяч рублей. Подтверждающими документами являются рекомендации \\nврача, договор на оказание платных медицинских услуг, акт \\nвыполненных работ, выписка с назначениями, кассовые и товарные чеки.  \\nВ исключительных слу чаях по решению ректора или социальной \\nкомиссии работнику может быть оказана материальная помощь на сумму \\nсвыше 6 тыс. рублей независимо от уровня его заработной платы.  \\nМатериальная   помощь   оказывается   только   по   одному   из   \\nперечисленных в пункт е 2.1. оснований при предоставлении \\nсоответствующих документов лечебного учреждения.  \\nСрок действия документов, подтверждающих расходы на лечение, не \\nдолжен превышать 6 месяцев.  \\n2.2. Материальная помощь в связи со стихийным бедствием, хищением \\nличного  имущества   (в зависимости  от  материального  ущерба)  –  не  ', metadata={'source': 'koldogovor\\\\koldogovor15.pdf', 'page': 1})"
      ]
     },
     "execution_count": 7,
     "metadata": {},
     "output_type": "execute_result"
    }
   ],
   "source": [
    "documents[19]"
   ]
  },
  {
   "cell_type": "code",
   "execution_count": 10,
   "metadata": {},
   "outputs": [
    {
     "data": {
      "text/plain": [
       "260"
      ]
     },
     "execution_count": 10,
     "metadata": {},
     "output_type": "execute_result"
    }
   ],
   "source": [
    "#text_splitter = RecursiveCharacterTextSplitter(chunk_size=1000, chunk_overlap=200)\n",
    "text_splitter = RecursiveCharacterTextSplitter(chunk_size=500, chunk_overlap=100)\n",
    "\n",
    "final_documents = text_splitter.split_documents(documents)\n",
    "len(final_documents)"
   ]
  },
  {
   "cell_type": "code",
   "execution_count": 11,
   "metadata": {},
   "outputs": [
    {
     "data": {
      "text/plain": [
       "Document(page_content='78 \\n \\uf0b7 Почетный член Томского политехнического университета;  \\n\\uf0b7 Почетный выпускник Томского политехнического университета;  \\n\\uf0b7 Профессор практики Томского политехнического университета.  \\n1.3. Представление к награждению знаками отличия ТПУ работников ТПУ \\nосуществляется при соблюдении следующей  последовательности \\nнаграждения: Благодарственное письмо ректора ТПУ - Благодарность ТПУ – \\nПочетная грамота ТПУ - Медаль «За участие в развитии Томского', metadata={'source': 'koldogovor\\\\koldogovor06.pdf', 'page': 1})"
      ]
     },
     "execution_count": 11,
     "metadata": {},
     "output_type": "execute_result"
    }
   ],
   "source": [
    "final_documents[19]"
   ]
  },
  {
   "cell_type": "code",
   "execution_count": 12,
   "metadata": {},
   "outputs": [
    {
     "name": "stderr",
     "output_type": "stream",
     "text": [
      "e:\\Progi\\PythonProg\\NLP\\LangChain\\KrishNaik\\.venv\\Lib\\site-packages\\sentence_transformers\\cross_encoder\\CrossEncoder.py:13: TqdmWarning: IProgress not found. Please update jupyter and ipywidgets. See https://ipywidgets.readthedocs.io/en/stable/user_install.html\n",
      "  from tqdm.autonotebook import tqdm, trange\n"
     ]
    }
   ],
   "source": [
    "#model_id = 'sentence-transformers/all-MiniLM-l6-v2'\n",
    "model_id = 'BAAI/bge-small-en-v1.5'\n",
    "\n",
    "#model_args = {'device': 'cuda'}\n",
    "model_args = {'device': 'cpu'}\n",
    "\n",
    "huggingface_embeddings = HuggingFaceBgeEmbeddings(\n",
    "    model_name=model_id,\n",
    "    model_kwargs=model_args,\n",
    "    encode_kwargs={'normalize_embeddings': True}\n",
    ")"
   ]
  },
  {
   "cell_type": "code",
   "execution_count": 14,
   "metadata": {},
   "outputs": [],
   "source": [
    "#np.array(huggingface_embeddings.embed_query(final_documents[19].page_content))"
   ]
  },
  {
   "cell_type": "code",
   "execution_count": 15,
   "metadata": {},
   "outputs": [
    {
     "data": {
      "text/plain": [
       "(384,)"
      ]
     },
     "execution_count": 15,
     "metadata": {},
     "output_type": "execute_result"
    }
   ],
   "source": [
    "np.array(huggingface_embeddings.embed_query(final_documents[19].page_content)).shape"
   ]
  },
  {
   "cell_type": "code",
   "execution_count": 17,
   "metadata": {},
   "outputs": [],
   "source": [
    "vector_store = FAISS.from_documents(final_documents, huggingface_embeddings)"
   ]
  },
  {
   "cell_type": "code",
   "execution_count": 19,
   "metadata": {},
   "outputs": [],
   "source": [
    "query = 'Почетные звания Томского политехнического университета?'"
   ]
  },
  {
   "cell_type": "code",
   "execution_count": 20,
   "metadata": {},
   "outputs": [
    {
     "name": "stdout",
     "output_type": "stream",
     "text": [
      "4\n"
     ]
    },
    {
     "data": {
      "text/plain": [
       "'установление дополнительных выплат стимулирующего характера в \\nсоответствии с Положение м об оплате труда в Томском политехническом \\nуниверситет е. \\n \\n12. Порядок лишения наград и почетного звания'"
      ]
     },
     "execution_count": 20,
     "metadata": {},
     "output_type": "execute_result"
    }
   ],
   "source": [
    "relevant_docments = vector_store.similarity_search(query)\n",
    "print( len(relevant_docments) )\n",
    "relevant_docments[0].page_content"
   ]
  },
  {
   "cell_type": "code",
   "execution_count": 21,
   "metadata": {},
   "outputs": [
    {
     "data": {
      "text/plain": [
       "VectorStoreRetriever(tags=['FAISS', 'HuggingFaceBgeEmbeddings'], vectorstore=<langchain_community.vectorstores.faiss.FAISS object at 0x000001E844047740>, search_kwargs={'k': 3})"
      ]
     },
     "execution_count": 21,
     "metadata": {},
     "output_type": "execute_result"
    }
   ],
   "source": [
    "retriever = vector_store.as_retriever(search_type='similarity', search_kwargs={'k': 3})\n",
    "retriever"
   ]
  },
  {
   "cell_type": "code",
   "execution_count": 22,
   "metadata": {},
   "outputs": [
    {
     "name": "stderr",
     "output_type": "stream",
     "text": [
      "e:\\Progi\\PythonProg\\NLP\\LangChain\\KrishNaik\\.venv\\Lib\\site-packages\\langchain_core\\_api\\deprecation.py:119: LangChainDeprecationWarning: The class `HuggingFaceHub` was deprecated in LangChain 0.0.21 and will be removed in 0.3.0. Use HuggingFaceEndpoint instead.\n",
      "  warn_deprecated(\n"
     ]
    },
    {
     "data": {
      "text/plain": [
       "'Почетные звания Томского политехнического университета? Какие есть и какие получить?\\nВ Томском политехническом университете (ТПУ) существует система награждения сотрудников и студентов за выдающиеся достижения, научные работы, инновации и вклад в развитие вуза. Вот некоторые из наиболее значимых и престижных наград, которые могут быть получены:\\n\\n1. **Орден Трудового Красного Знамени** - высшая государственная награда Российской Федерации, присуждаемая за выдающиеся заслуги в труде.\\n\\n2. **Орден Ленина** - одна из высших государственных наград СССР и России, вручаемая'"
      ]
     },
     "execution_count": 22,
     "metadata": {},
     "output_type": "execute_result"
    }
   ],
   "source": [
    "hf = HuggingFaceHub(\n",
    "    #repo_id='mistralai/Mistral-7B-v0.1',\n",
    "    repo_id='RefalMachine/ruadapt_qwen2.5_3B_ext_u48_instruct_v4',\n",
    "    model_kwargs={'temperature': 0.1, 'max_length': 500}\n",
    ")\n",
    "\n",
    "hf.invoke(query)"
   ]
  },
  {
   "cell_type": "code",
   "execution_count": 2,
   "metadata": {},
   "outputs": [
    {
     "ename": "NameError",
     "evalue": "name 'HuggingFacePipeline' is not defined",
     "output_type": "error",
     "traceback": [
      "\u001b[1;31m---------------------------------------------------------------------------\u001b[0m",
      "\u001b[1;31mNameError\u001b[0m                                 Traceback (most recent call last)",
      "Cell \u001b[1;32mIn[2], line 2\u001b[0m\n\u001b[0;32m      1\u001b[0m \u001b[38;5;66;03m# Взято с https://huggingface.co/RefalMachine/ruadapt_qwen2.5_3B_ext_u48_instruct_v4\u001b[39;00m\n\u001b[1;32m----> 2\u001b[0m hf \u001b[38;5;241m=\u001b[39m \u001b[43mHuggingFacePipeline\u001b[49m\u001b[38;5;241m.\u001b[39mfrom_model_id(\n\u001b[0;32m      3\u001b[0m     \u001b[38;5;66;03m#model_id='mistralai/Mistral-7B-v0.1',\u001b[39;00m\n\u001b[0;32m      4\u001b[0m     model_id\u001b[38;5;241m=\u001b[39m\u001b[38;5;124m'\u001b[39m\u001b[38;5;124mRefalMachine/ruadapt_qwen2.5_3B_ext_u48_instruct_v4\u001b[39m\u001b[38;5;124m'\u001b[39m,\n\u001b[0;32m      5\u001b[0m     task\u001b[38;5;241m=\u001b[39m\u001b[38;5;124m'\u001b[39m\u001b[38;5;124mtext-generation\u001b[39m\u001b[38;5;124m'\u001b[39m,\n\u001b[0;32m      6\u001b[0m     pipeline_kwargs\u001b[38;5;241m=\u001b[39m{\u001b[38;5;124m'\u001b[39m\u001b[38;5;124mtemperature\u001b[39m\u001b[38;5;124m'\u001b[39m: \u001b[38;5;241m0\u001b[39m, \u001b[38;5;124m'\u001b[39m\u001b[38;5;124mmax_new_tokens\u001b[39m\u001b[38;5;124m'\u001b[39m: \u001b[38;5;241m300\u001b[39m}\n\u001b[0;32m      7\u001b[0m )\n\u001b[0;32m      9\u001b[0m llm \u001b[38;5;241m=\u001b[39m hf \n\u001b[0;32m     10\u001b[0m llm\u001b[38;5;241m.\u001b[39minvoke(query)\n",
      "\u001b[1;31mNameError\u001b[0m: name 'HuggingFacePipeline' is not defined"
     ]
    }
   ],
   "source": [
    "# Взято с https://huggingface.co/RefalMachine/ruadapt_qwen2.5_3B_ext_u48_instruct_v4\n",
    "hf = HuggingFacePipeline.from_model_id(\n",
    "    #model_id='mistralai/Mistral-7B-v0.1',\n",
    "    model_id='RefalMachine/ruadapt_qwen2.5_3B_ext_u48_instruct_v4',\n",
    "    task='text-generation',\n",
    "    pipeline_kwargs={'temperature': 0, 'max_new_tokens': 300}\n",
    ")\n",
    "\n",
    "llm = hf \n",
    "llm.invoke(query)"
   ]
  },
  {
   "cell_type": "code",
   "execution_count": null,
   "metadata": {},
   "outputs": [],
   "source": []
  }
 ],
 "metadata": {
  "kernelspec": {
   "display_name": ".venv",
   "language": "python",
   "name": "python3"
  },
  "language_info": {
   "codemirror_mode": {
    "name": "ipython",
    "version": 3
   },
   "file_extension": ".py",
   "mimetype": "text/x-python",
   "name": "python",
   "nbconvert_exporter": "python",
   "pygments_lexer": "ipython3",
   "version": "3.12.4"
  }
 },
 "nbformat": 4,
 "nbformat_minor": 2
}
